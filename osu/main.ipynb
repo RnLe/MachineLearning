{
 "cells": [
  {
   "cell_type": "code",
   "execution_count": 2,
   "metadata": {},
   "outputs": [
    {
     "name": "stdout",
     "output_type": "stream",
     "text": [
      "Beatmaps:  356\n",
      "Difficulties:  1718\n"
     ]
    }
   ],
   "source": [
    "# Reading the dataset\n",
    "# Count the number of beatmaps and difficulties\n",
    "\n",
    "import os\n",
    "import numpy as np\n",
    "import rosu_pp_py as osu\n",
    "\n",
    "def count_beatmaps():\n",
    "    beatmaps_count = 0\n",
    "    difficulties_count = 0\n",
    "    for root, dirs, files in os.walk(\"dataset/beatmaps\"):\n",
    "        # The number of top-level folders corresponds to the number of beatmaps\n",
    "        beatmaps_count += len(dirs)\n",
    "        # The number of .osu files (in all subfolders) corresponds to the number of difficulties\n",
    "        difficulties_count += len([name for name in files if name.endswith(\".osu\")])\n",
    "    return beatmaps_count, difficulties_count\n",
    "\n",
    "beatmaps_count, difficulties_count = count_beatmaps()\n",
    "print(\"Beatmaps: \", beatmaps_count)\n",
    "print(\"Difficulties: \", difficulties_count)\n",
    "\n",
    "# Save path to beatmap .osu files in a list, respecting the folder structure\n",
    "# e.g. \"dataset/beatmaps/beatmap1/difficulty1.osu\". Every beatmap gets a list of paths to its difficulties\n",
    "\n",
    "def get_beatmap_paths():\n",
    "    beatmap_paths = []\n",
    "    # Respect the folder structure\n",
    "    for root, dirs, files in os.walk(\"dataset/beatmaps\"):\n",
    "        for dir in dirs:\n",
    "            beatmap_path = []\n",
    "            for root, dirs, files in os.walk(os.path.join(\"dataset/beatmaps\", dir)):\n",
    "                for file in files:\n",
    "                    if file.endswith(\".osu\"):\n",
    "                        beatmap_path.append(os.path.join(root, file))\n",
    "            beatmap_paths.append(beatmap_path)\n",
    "    \n",
    "    return beatmap_paths\n",
    "\n",
    "beatmaps = get_beatmap_paths()"
   ]
  },
  {
   "cell_type": "code",
   "execution_count": 16,
   "metadata": {},
   "outputs": [
    {
     "name": "stdout",
     "output_type": "stream",
     "text": [
      "AR 9.800000190734863\n",
      "Star Rating 8.077242505421664\n",
      "PP 834.5441923076489\n",
      "BPM 190.0002850004275\n",
      "Song dataset/beatmaps/1003201 Ata - Euphoria (evilxmaniac)/Ata - Euphoria (evilxmaniac) [Ciyus Miapah's Ultimate Power].osu\n"
     ]
    }
   ],
   "source": [
    "# Prepare the dataset\n",
    "# Read metadata from .osu files\n",
    "\n",
    "def read_metadata(beatmaps : list[list[str]]):\n",
    "    metadata = {}\n",
    "    for difficulty in beatmaps:\n",
    "        for file in difficulty:\n",
    "            with open(file, \"r\", encoding=\"utf-8\") as f:\n",
    "                lines = f.readlines()\n",
    "                for line in lines:\n",
    "                    if line.startswith(\"Title:\"):\n",
    "                        title = line.split(\":\")[1].strip()\n",
    "                    elif line.startswith(\"Artist:\"):\n",
    "                        artist = line.split(\":\")[1].strip()\n",
    "                    elif line.startswith(\"Version:\"):\n",
    "                        version = line.split(\":\")[1].strip()\n",
    "                metadata[title] = {\"artist\": artist, \"version\": version}\n",
    "    return metadata\n",
    "\n",
    "map = osu.Beatmap(path = beatmaps[0][0])\n",
    "perf = osu.Performance()\n",
    "attr = perf.calculate(map)\n",
    "max_attrs = perf.calculate(attr)\n",
    "\n",
    "print(\"AR\", max_attrs.difficulty.ar)\n",
    "print(\"Star Rating\", max_attrs.difficulty.stars)\n",
    "print(\"PP\", max_attrs.pp)\n",
    "print(\"BPM\", map.bpm)\n",
    "print(\"Song\", beatmaps[0][0])"
   ]
  }
 ],
 "metadata": {
  "kernelspec": {
   "display_name": "ML",
   "language": "python",
   "name": "python3"
  },
  "language_info": {
   "codemirror_mode": {
    "name": "ipython",
    "version": 3
   },
   "file_extension": ".py",
   "mimetype": "text/x-python",
   "name": "python",
   "nbconvert_exporter": "python",
   "pygments_lexer": "ipython3",
   "version": "3.11.9"
  }
 },
 "nbformat": 4,
 "nbformat_minor": 2
}
