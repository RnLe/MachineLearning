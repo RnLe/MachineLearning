{
 "cells": [
  {
   "cell_type": "code",
   "execution_count": 9,
   "metadata": {},
   "outputs": [
    {
     "name": "stdout",
     "output_type": "stream",
     "text": [
      "Beatmaps:  356\n",
      "Difficulties:  1718\n"
     ]
    }
   ],
   "source": [
    "# Reading the dataset\n",
    "# Count the number of beatmaps and difficulties\n",
    "\n",
    "import os\n",
    "\n",
    "def count_beatmaps():\n",
    "    beatmaps = 0\n",
    "    difficulties = 0\n",
    "    for root, dirs, files in os.walk(\"dataset/beatmaps\"):\n",
    "        # The number of top-level folders corresponds to the number of beatmaps\n",
    "        beatmaps += len(dirs)\n",
    "        # The number of .osu files (in all subfolders) corresponds to the number of difficulties\n",
    "        difficulties += len([name for name in files if name.endswith(\".osu\")])\n",
    "    return beatmaps, difficulties\n",
    "\n",
    "beatmaps, difficulties = count_beatmaps()\n",
    "print(\"Beatmaps: \", beatmaps)\n",
    "print(\"Difficulties: \", difficulties)"
   ]
  },
  {
   "cell_type": "code",
   "execution_count": null,
   "metadata": {},
   "outputs": [],
   "source": []
  }
 ],
 "metadata": {
  "kernelspec": {
   "display_name": "ML",
   "language": "python",
   "name": "python3"
  },
  "language_info": {
   "codemirror_mode": {
    "name": "ipython",
    "version": 3
   },
   "file_extension": ".py",
   "mimetype": "text/x-python",
   "name": "python",
   "nbconvert_exporter": "python",
   "pygments_lexer": "ipython3",
   "version": "3.11.5"
  }
 },
 "nbformat": 4,
 "nbformat_minor": 2
}
